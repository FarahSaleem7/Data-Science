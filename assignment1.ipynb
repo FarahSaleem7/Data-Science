{
  "nbformat": 4,
  "nbformat_minor": 0,
  "metadata": {
    "colab": {
      "name": "Untitled3.ipynb",
      "provenance": [],
      "authorship_tag": "ABX9TyPVBqw04i4vVXoF4WnppI8g",
      "include_colab_link": true
    },
    "kernelspec": {
      "name": "python3",
      "display_name": "Python 3"
    },
    "language_info": {
      "name": "python"
    }
  },
  "cells": [
    {
      "cell_type": "markdown",
      "metadata": {
        "id": "view-in-github",
        "colab_type": "text"
      },
      "source": [
        "<a href=\"https://colab.research.google.com/github/FarahSaleem7/Data-Science/blob/master/assignment1.ipynb\" target=\"_parent\"><img src=\"https://colab.research.google.com/assets/colab-badge.svg\" alt=\"Open In Colab\"/></a>"
      ]
    },
    {
      "cell_type": "code",
      "execution_count": 1,
      "metadata": {
        "colab": {
          "base_uri": "https://localhost:8080/"
        },
        "id": "B2T8Z7W0ceFn",
        "outputId": "31b0f16c-916a-4bd1-bfe1-c19f331d63e5"
      },
      "outputs": [
        {
          "output_type": "stream",
          "name": "stdout",
          "text": [
            "----------------------------Question no. 1--------------------------------------------\n",
            "Twinkle twinkle little star,\n",
            " \t How I wonder what you are!\n",
            "\t\t Up above the world so high, \n",
            " \t\t Like a diamond in the sky.\n",
            "Twinkle, twinkle, little star, \n",
            " \tHow I wonder what you are\n"
          ]
        }
      ],
      "source": [
        "print(\"----------------------------Question no. 1--------------------------------------------\")\n",
        "print(\"Twinkle twinkle little star,\\n \\t How I wonder what you are!\\n\\t\\t Up above the world so high, \"\n",
        "      \"\\n \\t\\t Like a diamond in the sky.\\nTwinkle, twinkle, little star, \\n \\tHow I wonder what you are\")"
      ]
    },
    {
      "cell_type": "code",
      "source": [
        "print(\"\\n----------------------------Question no. 2--------------------------------------------\")\n",
        "import sys\n",
        "print(\"Python version : \"+sys.version)"
      ],
      "metadata": {
        "colab": {
          "base_uri": "https://localhost:8080/"
        },
        "id": "vkjm1MPEcihX",
        "outputId": "d7aaf124-b316-43bb-d158-b4cf6ccd101c"
      },
      "execution_count": 2,
      "outputs": [
        {
          "output_type": "stream",
          "name": "stdout",
          "text": [
            "\n",
            "----------------------------Question no. 2--------------------------------------------\n",
            "Python version : 3.7.12 (default, Sep 10 2021, 00:21:48) \n",
            "[GCC 7.5.0]\n"
          ]
        }
      ]
    },
    {
      "cell_type": "code",
      "source": [
        "print(\"\\n----------------------------Question no. 3--------------------------------------------\")\n",
        "import datetime\n",
        "now = datetime.datetime.now()\n",
        "print (\"Current date and time : \"+ now.strftime(\"%Y-%m-%d %H:%M:%S\"))"
      ],
      "metadata": {
        "colab": {
          "base_uri": "https://localhost:8080/"
        },
        "id": "cdT64I08cqN9",
        "outputId": "1404192c-9809-437b-d764-d2aa60d807a7"
      },
      "execution_count": 3,
      "outputs": [
        {
          "output_type": "stream",
          "name": "stdout",
          "text": [
            "\n",
            "----------------------------Question no. 3--------------------------------------------\n",
            "Current date and time : 2021-12-30 17:45:51\n"
          ]
        }
      ]
    },
    {
      "cell_type": "code",
      "source": [
        "print(\"\\n----------------------------Question no. 4--------------------------------------------\")\n",
        "import math\n",
        "radius=input(\"Enter the radius: \")\n"
      ],
      "metadata": {
        "colab": {
          "base_uri": "https://localhost:8080/"
        },
        "id": "iw--NnTadYOc",
        "outputId": "725294da-7e6d-4ee9-d71f-9896056b9dc7"
      },
      "execution_count": 6,
      "outputs": [
        {
          "name": "stdout",
          "output_type": "stream",
          "text": [
            "\n",
            "----------------------------Question no. 4--------------------------------------------\n",
            "Enter the radius: 70\n"
          ]
        }
      ]
    },
    {
      "cell_type": "code",
      "source": [
        "area=3.14* (math.pow(int(radius), 2))\n",
        "print(\"The area of the square is : \"+ str(area))"
      ],
      "metadata": {
        "colab": {
          "base_uri": "https://localhost:8080/"
        },
        "id": "qWu5H3tPdmuG",
        "outputId": "d7cc0675-87e2-4294-dfb7-aa2f6258f750"
      },
      "execution_count": 7,
      "outputs": [
        {
          "output_type": "stream",
          "name": "stdout",
          "text": [
            "The area of the square is : 15386.0\n"
          ]
        }
      ]
    },
    {
      "cell_type": "code",
      "source": [
        "print(\"\\n----------------------------Question no. 5--------------------------------------------\")\n",
        "fname=input(\"Enter your First Name: \")"
      ],
      "metadata": {
        "colab": {
          "base_uri": "https://localhost:8080/"
        },
        "id": "YQbZDrKDd7gS",
        "outputId": "43327679-6696-4798-fd95-443c5308626a"
      },
      "execution_count": 9,
      "outputs": [
        {
          "name": "stdout",
          "output_type": "stream",
          "text": [
            "\n",
            "----------------------------Question no. 5--------------------------------------------\n",
            "Enter your First Name: farah\n"
          ]
        }
      ]
    },
    {
      "cell_type": "code",
      "source": [
        "lname=input(\"Enter your Last Name: \")\n"
      ],
      "metadata": {
        "colab": {
          "base_uri": "https://localhost:8080/"
        },
        "id": "-3Ocz65veBlN",
        "outputId": "e9fc91fe-712b-4975-9f41-54af00f3e16b"
      },
      "execution_count": 10,
      "outputs": [
        {
          "name": "stdout",
          "output_type": "stream",
          "text": [
            "Enter your Last Name: saleem\n"
          ]
        }
      ]
    },
    {
      "cell_type": "code",
      "source": [
        "reverse= (fname+\" \"+lname)[::-1]\n",
        "print(\"Name in reverse order is :\" + reverse)"
      ],
      "metadata": {
        "colab": {
          "base_uri": "https://localhost:8080/"
        },
        "id": "3OQfNZcmeHeE",
        "outputId": "72836b67-22c7-44d2-e02c-56f2b37e04d5"
      },
      "execution_count": 11,
      "outputs": [
        {
          "output_type": "stream",
          "name": "stdout",
          "text": [
            "Name in reverse order is :meelas haraf\n"
          ]
        }
      ]
    },
    {
      "cell_type": "code",
      "source": [
        "print(\"\\n----------------------------Question no. 5--------------------------------------------\")\n",
        "n1=int(input(\"Enter First Number: \"))"
      ],
      "metadata": {
        "colab": {
          "base_uri": "https://localhost:8080/"
        },
        "id": "5awOt4F7eJ1k",
        "outputId": "4966f0bf-0397-498c-e828-7a0414f8a335"
      },
      "execution_count": 12,
      "outputs": [
        {
          "name": "stdout",
          "output_type": "stream",
          "text": [
            "\n",
            "----------------------------Question no. 5--------------------------------------------\n",
            "Enter First Number: -100\n"
          ]
        }
      ]
    },
    {
      "cell_type": "code",
      "source": [
        "n2=int(input(\"Enter Second Number: \"))"
      ],
      "metadata": {
        "colab": {
          "base_uri": "https://localhost:8080/"
        },
        "id": "DhzlL_fSePka",
        "outputId": "36cc4de7-01dd-4347-f661-d0840ef875d9"
      },
      "execution_count": 13,
      "outputs": [
        {
          "name": "stdout",
          "output_type": "stream",
          "text": [
            "Enter Second Number: 20\n"
          ]
        }
      ]
    },
    {
      "cell_type": "code",
      "source": [
        "print(\"The addition of two numbers is  :  \"+str(n1+n2))"
      ],
      "metadata": {
        "colab": {
          "base_uri": "https://localhost:8080/"
        },
        "id": "QHfwHrv4eUJp",
        "outputId": "caa9e2a6-90f0-43c5-f520-775ed4803a26"
      },
      "execution_count": 14,
      "outputs": [
        {
          "output_type": "stream",
          "name": "stdout",
          "text": [
            "The addition of two numbers is  :  -80\n"
          ]
        }
      ]
    }
  ]
}